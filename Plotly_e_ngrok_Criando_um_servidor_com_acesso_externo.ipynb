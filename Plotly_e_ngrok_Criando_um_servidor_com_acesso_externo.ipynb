{
  "nbformat": 4,
  "nbformat_minor": 0,
  "metadata": {
    "colab": {
      "name": "Plotly e ngrok - Criando um servidor com acesso externo.ipynb",
      "provenance": [],
      "collapsed_sections": [],
      "toc_visible": true,
      "include_colab_link": true
    },
    "kernelspec": {
      "name": "python3",
      "display_name": "Python 3"
    }
  },
  "cells": [
    {
      "cell_type": "markdown",
      "metadata": {
        "id": "view-in-github",
        "colab_type": "text"
      },
      "source": [
        "<a href=\"https://colab.research.google.com/github/elieserDev/plotly-ngrok-googlecolab/blob/master/Plotly_e_ngrok_Criando_um_servidor_com_acesso_externo.ipynb\" target=\"_parent\"><img src=\"https://colab.research.google.com/assets/colab-badge.svg\" alt=\"Open In Colab\"/></a>"
      ]
    },
    {
      "cell_type": "markdown",
      "metadata": {
        "id": "bL-bGNiyUsPJ"
      },
      "source": [
        "#Aplicação Utilizando o Google Colab Com Plotly e ngrok\r\n",
        "\r\n",
        "O verdadeiro motivo da existência de um Jupyter notebook, é para estudar, aprender e documentar processos desenvolvidos com Python.\r\n",
        "\r\n",
        "Mas, estudando um pouco mais foi possível identificar algumas possibilidades avançadas com o Google Colab. A ferramenta já possibilita desenvolver funcionalidades no consumo de dados, com as demais ferramentas do Google, como: Google Documentos, Google Planilhas e etc.\r\n",
        "\r\n",
        "Sendo assim, podemos identificar que o Google Colab foi desenvolvido com a intenção de análise e detalhamento de dados em cloud. Isso por meio de desenvolvimento de relatórios, utilizando Python, Javascript, HTML e outras mais linguagens suportadas pela plataforma.\r\n",
        "Então, foi que percebi que poderia pensar um pouco fora da caixa... Porque não, pensar em algo um pouco mais avançado?\r\n",
        "\r\n",
        "A ideia aqui, é criar um dash estático utilizando o Plotly, em seguida estruturar o ngrok para criar uma máscara e disponibilizar o nosso app para o mundo.\r\n",
        "Mas, vamos tentar fazer uma simulação de liberação de permissão para os emails que desejamos apenas."
      ]
    },
    {
      "cell_type": "markdown",
      "metadata": {
        "id": "w-9vRdRXkUFD"
      },
      "source": [
        "## Importando Bibliotecas\r\n",
        "Aqui vamos importar todas as bibliotecas e módulos necessárias para trabalhar neste projeto.\r\n",
        "Será necessário:\r\n",
        "\r\n",
        "**Instalação das Bibliotecas Adicionais:**\r\n",
        "- jupyter-dash\r\n",
        "- pyngrok\r\n",
        "\r\n",
        "**Importando Todas as Bibliotecas e Módulos:**\r\n",
        "- requests(Trabalhando com solicitações HTTP)\r\n",
        "- auth(Módulo Google Colab para trabalhar com autenticação)\r\n",
        "- px(Módulo Plotly para trabalhar com Plotly Express)\r\n",
        "- dcc(Módulo dash para podermos trabalhar com os componentes do painel final)\r\n",
        "- html(Modulo dash para trabalhar com os elementos HTML da página final do painel)\r\n",
        "- Input e Output(Modulos dash para trabalhar com os callbacks de entrada e saída do app)\r\n",
        "- ngrok(Biblioteca para trabalharmos com o nosso backdoor)\r\n",
        "- IPython(Biblioteca para trabalharmos a integração entre o Python e o navegador local)"
      ]
    },
    {
      "cell_type": "code",
      "metadata": {
        "id": "18bjHVEpUv1B",
        "colab": {
          "base_uri": "https://localhost:8080/"
        },
        "outputId": "41aa6777-188a-4521-c5dc-375182d46f49"
      },
      "source": [
        "#Instalando pacotes:\r\n",
        "!pip install jupyter-dash\r\n",
        "!pip install pyngrok\r\n",
        "#Importação de Libs\r\n",
        "\r\n",
        "import requests\r\n",
        "from google.colab import auth\r\n",
        "import plotly.express as px\r\n",
        "from jupyter_dash import JupyterDash\r\n",
        "import dash_core_components as dcc\r\n",
        "import dash_html_components as html\r\n",
        "from dash.dependencies import Input, Output# Load Data\r\n",
        "from pyngrok import ngrok\r\n",
        "import IPython"
      ],
      "execution_count": null,
      "outputs": [
        {
          "output_type": "stream",
          "text": [
            "Collecting jupyter-dash\n",
            "\u001b[?25l  Downloading https://files.pythonhosted.org/packages/b9/b9/5f9499a0154124a262c85e3a99033b9b3a20dc3d2707b587f52b32b60d76/jupyter_dash-0.3.1-py3-none-any.whl (49kB)\n",
            "\r\u001b[K     |██████▊                         | 10kB 17.6MB/s eta 0:00:01\r\u001b[K     |█████████████▍                  | 20kB 21.9MB/s eta 0:00:01\r\u001b[K     |████████████████████            | 30kB 12.9MB/s eta 0:00:01\r\u001b[K     |██████████████████████████▊     | 40kB 8.7MB/s eta 0:00:01\r\u001b[K     |████████████████████████████████| 51kB 2.7MB/s \n",
            "\u001b[?25hRequirement already satisfied: ipykernel in /usr/local/lib/python3.6/dist-packages (from jupyter-dash) (4.10.1)\n",
            "Requirement already satisfied: flask in /usr/local/lib/python3.6/dist-packages (from jupyter-dash) (1.1.2)\n",
            "Requirement already satisfied: requests in /usr/local/lib/python3.6/dist-packages (from jupyter-dash) (2.23.0)\n",
            "Collecting ansi2html\n",
            "  Downloading https://files.pythonhosted.org/packages/c6/85/3a46be84afbb16b392a138cd396117f438c7b2e91d8dc327621d1ae1b5dc/ansi2html-1.6.0-py3-none-any.whl\n",
            "Requirement already satisfied: ipython in /usr/local/lib/python3.6/dist-packages (from jupyter-dash) (5.5.0)\n",
            "Collecting dash\n",
            "\u001b[?25l  Downloading https://files.pythonhosted.org/packages/dd/17/55244363969638edd1151de0ea4aa10e6a7849b42d7d0994e3082514e19d/dash-1.18.1.tar.gz (74kB)\n",
            "\u001b[K     |████████████████████████████████| 81kB 3.0MB/s \n",
            "\u001b[?25hRequirement already satisfied: retrying in /usr/local/lib/python3.6/dist-packages (from jupyter-dash) (1.3.3)\n",
            "Requirement already satisfied: jupyter-client in /usr/local/lib/python3.6/dist-packages (from ipykernel->jupyter-dash) (5.3.5)\n",
            "Requirement already satisfied: traitlets>=4.1.0 in /usr/local/lib/python3.6/dist-packages (from ipykernel->jupyter-dash) (4.3.3)\n",
            "Requirement already satisfied: tornado>=4.0 in /usr/local/lib/python3.6/dist-packages (from ipykernel->jupyter-dash) (5.1.1)\n",
            "Requirement already satisfied: click>=5.1 in /usr/local/lib/python3.6/dist-packages (from flask->jupyter-dash) (7.1.2)\n",
            "Requirement already satisfied: itsdangerous>=0.24 in /usr/local/lib/python3.6/dist-packages (from flask->jupyter-dash) (1.1.0)\n",
            "Requirement already satisfied: Jinja2>=2.10.1 in /usr/local/lib/python3.6/dist-packages (from flask->jupyter-dash) (2.11.2)\n",
            "Requirement already satisfied: Werkzeug>=0.15 in /usr/local/lib/python3.6/dist-packages (from flask->jupyter-dash) (1.0.1)\n",
            "Requirement already satisfied: urllib3!=1.25.0,!=1.25.1,<1.26,>=1.21.1 in /usr/local/lib/python3.6/dist-packages (from requests->jupyter-dash) (1.24.3)\n",
            "Requirement already satisfied: certifi>=2017.4.17 in /usr/local/lib/python3.6/dist-packages (from requests->jupyter-dash) (2020.12.5)\n",
            "Requirement already satisfied: chardet<4,>=3.0.2 in /usr/local/lib/python3.6/dist-packages (from requests->jupyter-dash) (3.0.4)\n",
            "Requirement already satisfied: idna<3,>=2.5 in /usr/local/lib/python3.6/dist-packages (from requests->jupyter-dash) (2.10)\n",
            "Requirement already satisfied: pickleshare in /usr/local/lib/python3.6/dist-packages (from ipython->jupyter-dash) (0.7.5)\n",
            "Requirement already satisfied: setuptools>=18.5 in /usr/local/lib/python3.6/dist-packages (from ipython->jupyter-dash) (51.1.1)\n",
            "Requirement already satisfied: pexpect; sys_platform != \"win32\" in /usr/local/lib/python3.6/dist-packages (from ipython->jupyter-dash) (4.8.0)\n",
            "Requirement already satisfied: simplegeneric>0.8 in /usr/local/lib/python3.6/dist-packages (from ipython->jupyter-dash) (0.8.1)\n",
            "Requirement already satisfied: pygments in /usr/local/lib/python3.6/dist-packages (from ipython->jupyter-dash) (2.6.1)\n",
            "Requirement already satisfied: prompt-toolkit<2.0.0,>=1.0.4 in /usr/local/lib/python3.6/dist-packages (from ipython->jupyter-dash) (1.0.18)\n",
            "Requirement already satisfied: decorator in /usr/local/lib/python3.6/dist-packages (from ipython->jupyter-dash) (4.4.2)\n",
            "Collecting flask-compress\n",
            "  Downloading https://files.pythonhosted.org/packages/b2/7a/9c4641f975fb9daaf945dc39da6a52fd5693ab3bbc2d53780eab3b5106f4/Flask_Compress-1.8.0-py3-none-any.whl\n",
            "Requirement already satisfied: plotly in /usr/local/lib/python3.6/dist-packages (from dash->jupyter-dash) (4.4.1)\n",
            "Collecting dash_renderer==1.8.3\n",
            "\u001b[?25l  Downloading https://files.pythonhosted.org/packages/72/fe/59a322edb128ad15205002c7b81e3f5e580f6791c4a100183289e05dbfcb/dash_renderer-1.8.3.tar.gz (1.0MB)\n",
            "\u001b[K     |████████████████████████████████| 1.0MB 17.3MB/s \n",
            "\u001b[?25hCollecting dash-core-components==1.14.1\n",
            "\u001b[?25l  Downloading https://files.pythonhosted.org/packages/0f/ab/5ffeeed41117383d02485f5b9204dcfaa074bfbb3ff2559afac7b904ad5c/dash_core_components-1.14.1.tar.gz (3.5MB)\n",
            "\u001b[K     |████████████████████████████████| 3.5MB 33.4MB/s \n",
            "\u001b[?25hCollecting dash-html-components==1.1.1\n",
            "\u001b[?25l  Downloading https://files.pythonhosted.org/packages/02/ba/bb9427c62feb25bfbaf243894eeeb4e7c67a92b426ed0575a167100e436e/dash_html_components-1.1.1.tar.gz (188kB)\n",
            "\u001b[K     |████████████████████████████████| 194kB 51.1MB/s \n",
            "\u001b[?25hCollecting dash-table==4.11.1\n",
            "\u001b[?25l  Downloading https://files.pythonhosted.org/packages/79/4b/de20584b7dc82dc6e572e8b596d21b1c6e39f13d19e8c9e6f1d67bed67fd/dash_table-4.11.1.tar.gz (1.8MB)\n",
            "\u001b[K     |████████████████████████████████| 1.8MB 40.9MB/s \n",
            "\u001b[?25hRequirement already satisfied: future in /usr/local/lib/python3.6/dist-packages (from dash->jupyter-dash) (0.16.0)\n",
            "Requirement already satisfied: six>=1.7.0 in /usr/local/lib/python3.6/dist-packages (from retrying->jupyter-dash) (1.15.0)\n",
            "Requirement already satisfied: pyzmq>=13 in /usr/local/lib/python3.6/dist-packages (from jupyter-client->ipykernel->jupyter-dash) (20.0.0)\n",
            "Requirement already satisfied: python-dateutil>=2.1 in /usr/local/lib/python3.6/dist-packages (from jupyter-client->ipykernel->jupyter-dash) (2.8.1)\n",
            "Requirement already satisfied: jupyter-core>=4.6.0 in /usr/local/lib/python3.6/dist-packages (from jupyter-client->ipykernel->jupyter-dash) (4.7.0)\n",
            "Requirement already satisfied: ipython-genutils in /usr/local/lib/python3.6/dist-packages (from traitlets>=4.1.0->ipykernel->jupyter-dash) (0.2.0)\n",
            "Requirement already satisfied: MarkupSafe>=0.23 in /usr/local/lib/python3.6/dist-packages (from Jinja2>=2.10.1->flask->jupyter-dash) (1.1.1)\n",
            "Requirement already satisfied: ptyprocess>=0.5 in /usr/local/lib/python3.6/dist-packages (from pexpect; sys_platform != \"win32\"->ipython->jupyter-dash) (0.7.0)\n",
            "Requirement already satisfied: wcwidth in /usr/local/lib/python3.6/dist-packages (from prompt-toolkit<2.0.0,>=1.0.4->ipython->jupyter-dash) (0.2.5)\n",
            "Collecting brotli\n",
            "\u001b[?25l  Downloading https://files.pythonhosted.org/packages/b4/d3/7c98f05b7b9103e2f3a112ba42f269c798155b3e5404fb80bb8f823aaebe/Brotli-1.0.9-cp36-cp36m-manylinux1_x86_64.whl (357kB)\n",
            "\u001b[K     |████████████████████████████████| 358kB 44.3MB/s \n",
            "\u001b[?25hBuilding wheels for collected packages: dash, dash-renderer, dash-core-components, dash-html-components, dash-table\n",
            "  Building wheel for dash (setup.py) ... \u001b[?25l\u001b[?25hdone\n",
            "  Created wheel for dash: filename=dash-1.18.1-cp36-none-any.whl size=83681 sha256=3933d4e867ca960b861778a9f01ec25b824cc5cc053a1e80d772f081ad1b0488\n",
            "  Stored in directory: /root/.cache/pip/wheels/eb/56/fb/79b2169ce9fcb79753ec57a16abb8f0b7750b4c63d7eb3cea9\n",
            "  Building wheel for dash-renderer (setup.py) ... \u001b[?25l\u001b[?25hdone\n",
            "  Created wheel for dash-renderer: filename=dash_renderer-1.8.3-cp36-none-any.whl size=1013945 sha256=46fea9e99b90ab6c0b3e80ba1524c9fa30e83287bafdb0d6a5cb504aa02b350f\n",
            "  Stored in directory: /root/.cache/pip/wheels/cf/2b/5f/0928a6d1b7ebf280f21a2e925f36d662e6ba83e00b82c6b6bf\n",
            "  Building wheel for dash-core-components (setup.py) ... \u001b[?25l\u001b[?25hdone\n",
            "  Created wheel for dash-core-components: filename=dash_core_components-1.14.1-cp36-none-any.whl size=3525927 sha256=180dceb562e45dcbb6aed1766348a1cf486fd5ded2028cf0f08cd52b63a8d8d8\n",
            "  Stored in directory: /root/.cache/pip/wheels/e3/20/48/9022e1f2cb2fed4d9925370d0e17cbb3ab1164f3742d9b5e5a\n",
            "  Building wheel for dash-html-components (setup.py) ... \u001b[?25l\u001b[?25hdone\n",
            "  Created wheel for dash-html-components: filename=dash_html_components-1.1.1-cp36-none-any.whl size=427894 sha256=dc11e6b0d721482a4f77ad7eb35a72847dc9c7d346160fda65956416c9019da7\n",
            "  Stored in directory: /root/.cache/pip/wheels/8d/01/46/78e4de185a8a4a2da8ba31da16c52170f036d4cebeeb6e07a2\n",
            "  Building wheel for dash-table (setup.py) ... \u001b[?25l\u001b[?25hdone\n",
            "  Created wheel for dash-table: filename=dash_table-4.11.1-cp36-none-any.whl size=1839869 sha256=a98c45701fbe14f5e89c44874eb3247a8c4722fcd24ce7b119c6450b485f6312\n",
            "  Stored in directory: /root/.cache/pip/wheels/53/a0/0e/1105943524ee7060c5c45a22e45c77777a3d8801f2fe49e445\n",
            "Successfully built dash dash-renderer dash-core-components dash-html-components dash-table\n",
            "Installing collected packages: ansi2html, brotli, flask-compress, dash-renderer, dash-core-components, dash-html-components, dash-table, dash, jupyter-dash\n",
            "Successfully installed ansi2html-1.6.0 brotli-1.0.9 dash-1.18.1 dash-core-components-1.14.1 dash-html-components-1.1.1 dash-renderer-1.8.3 dash-table-4.11.1 flask-compress-1.8.0 jupyter-dash-0.3.1\n",
            "Collecting pyngrok\n",
            "  Downloading https://files.pythonhosted.org/packages/e2/19/af0fc6c11cc13f8a31e9dbec21af745337be8a40b5738cd30f08a483eac3/pyngrok-5.0.1.tar.gz\n",
            "Requirement already satisfied: PyYAML in /usr/local/lib/python3.6/dist-packages (from pyngrok) (3.13)\n",
            "Building wheels for collected packages: pyngrok\n",
            "  Building wheel for pyngrok (setup.py) ... \u001b[?25l\u001b[?25hdone\n",
            "  Created wheel for pyngrok: filename=pyngrok-5.0.1-cp36-none-any.whl size=18822 sha256=bc0d1c04e79f7ebe62953abcc7c708e333b56d732eae64a0bbd7080934e0eeb1\n",
            "  Stored in directory: /root/.cache/pip/wheels/94/01/05/d39efb8f6b40a411354b4168ca9dda99e6f8d586e458e97551\n",
            "Successfully built pyngrok\n",
            "Installing collected packages: pyngrok\n",
            "Successfully installed pyngrok-5.0.1\n"
          ],
          "name": "stdout"
        }
      ]
    },
    {
      "cell_type": "markdown",
      "metadata": {
        "id": "K_0wcGb4rOxg"
      },
      "source": [
        "#Desenvolvendo um controle de acesso por autenticação\r\n",
        "Após termos baixado, instalado e importado tudo que precisávamos. Agora, vamos trabalhar com o auth do Google Colab para possibilitar o usuário logar com a sua conta do Google, neste notebook.\r\n",
        "\r\n",
        "Assim, logo podemos extrair o email fornecido pelo login e verificar se o seu email está dentro da lista de permissões ou não.\r\n",
        "\r\n",
        "Caso esteja, o acesso é concedido. Caso não, o acesso é negado."
      ]
    },
    {
      "cell_type": "code",
      "metadata": {
        "id": "YQ9I6Kb3C2II"
      },
      "source": [
        "#Autenticação:\r\n",
        "auth.authenticate_user()\r\n",
        "gcloud_token = !gcloud auth print-access-token\r\n",
        "google = requests.get('https://www.googleapis.com/oauth2/v3/tokeninfo?access_token=' + gcloud_token[0]).json()\r\n",
        "# !gcloud config get-value account\r\n",
        "\r\n",
        "permissao = [\r\n",
        "  'elieser.oliveira@compasso.com.br',\r\n",
        "]\r\n",
        "\r\n",
        "def validacao():\r\n",
        "  return google['email'] in permissao"
      ],
      "execution_count": null,
      "outputs": []
    },
    {
      "cell_type": "markdown",
      "metadata": {
        "id": "QsQIXqBwMISY"
      },
      "source": [
        "## Criando e Estruturando o APP\r\n",
        "\r\n",
        "Neste momento, vamos ver como desenvolver os controles da aplicação e também como levantar o servidor e backdoor usando o Plotly e o ngrok.\r\n",
        "\r\n",
        "Vamos utilizar o Python para desenvolver o back-end e Javascript, para trabalhar com os mecanismos do navegador.\r\n",
        "\r\n",
        "Com o Javascript, vamos desenvolver o controle de estabilização do notebook, acesso automático ao app na primeira vez que rodar todo o notebook e a criação de botões para acessar e desabilitar o monitoramento do terminal de uso deste notebook."
      ]
    },
    {
      "cell_type": "markdown",
      "metadata": {
        "id": "zq3vGjdJrrgm"
      },
      "source": [
        "### Primeira Célula Deste Processo\r\n",
        "\r\n",
        "Na próxima célula, vamos cuidar deste processo de monitoramento do nosso front-end, ou seja, do nosso notebook como um todo.\r\n",
        "\r\n",
        "Precisamos passar o valor que retorna da função em Python que se responsabiliza pela validação de acesso ao app. Para isso, precisaremos usar o IPython, onde iremos criar uma string com a sintaxe da criação de uma variável em Javascript.\r\n",
        "Assim, poderemos criar uma variável global, onde será armazenado o valor dinâmico de validação. Isso porque não conseguimos passar um valor que resulta do contexto Python, para um contexto Javascript. Até por se tratarem de ambientes e contextos diferentes.\r\n",
        "\r\n",
        "Sendo assim, usaremos a função lower() do Python para que o resultado esteja adaptado para a sintaxe Javascript. Se o valor retornado da função validacao() que fica no contexto Python retorna True, então o valor que será armazenado na variável global no Javascript será true. Se o valor retornado da função validacao() que fica no contexto Python retorna False, então o valor que será armazenado na variável global no Javascript será false. Respeitando o lower case da sintaxe Javascript.\r\n",
        "\r\n",
        "A linha onde será armazenado o valor no formato de string, dentro do Python, será representada da seguinte forma:\r\n",
        "\r\n",
        "\r\n",
        "```python\r\n",
        "  var_js = 'var validacao = ' + str(validacao()).lower() #Passando o valor para JS\r\n",
        "```\r\n",
        "Assim, usaremos o display para passar este contexto para Javascript usando o IPython, na próxima linha da seguinte forma:\r\n",
        "```python\r\n",
        "  display(IPython.display.Javascript(var_js)) #Enviando variável para contexto JS\r\n",
        "```\r\n",
        "No final das \"contas\", o que esperamos que aconteça no \"lado\" do Javascript, é que apenas seja passado a string como um todo. Além do mais, o que estamos passando pelo IPython é o valor da variável __var_js__.\r\n",
        "\r\n",
        "Então, o resultado esperado que seja passado para o contexto Javascript, será o seguinte:\r\n",
        "```javascript\r\n",
        "  var validacao = true\r\n",
        "```\r\n",
        "_*ou*_\r\n",
        "```javascript\r\n",
        "  var validacao = false\r\n",
        "```\r\n",
        "\r\n",
        "Essa lógica estará dentro de uma função Python, chamada cria_controle_app(), logo nas primeiras linhas.\r\n",
        "\r\n",
        "Dentro desta função, também é encontrado um outro display, que servirá para escrever o nosso código Javascript, responsável por manter o nosso notebook conectado ao servidor. Do contrário, após 30 minutos o notebook é desconectado automaticamente, por inatividade. Além disso, este código Javascript servirá para criar alguns botões interativos."
      ]
    },
    {
      "cell_type": "code",
      "metadata": {
        "id": "p_rNmFsuDuFm"
      },
      "source": [
        "#Criando controle de botões e acesso automático ao app\r\n",
        "def cria_controle_app():\r\n",
        "  var_js = 'var validacao = ' + str(validacao()).lower() #Passando o valor para JS\r\n",
        "  display(IPython.display.Javascript(var_js)) #Enviando variável para contexto JS\r\n",
        "  \r\n",
        "  display(IPython.display.Javascript(\"\"\"\r\n",
        "    function RunApp() {\r\n",
        "      var urlApp = document.querySelector('#output-body .output-id-2 a');\r\n",
        "      console.log(urlApp);\r\n",
        "      if (urlApp) window.open(urlApp.href);\r\n",
        "      \r\n",
        "      //Criando Botão do App\r\n",
        "      var btn = document.createElement('button');\r\n",
        "      var texto_btn = document.createTextNode('Abrir App');\r\n",
        "      var link = document.createElement('a');\r\n",
        "      link.setAttribute('href', urlApp);\r\n",
        "      link.setAttribute('target', '_blank');\r\n",
        "      link.setAttribute('id', 'server_url');\r\n",
        "      btn.appendChild(texto_btn);\r\n",
        "      document.querySelector('#output-area').appendChild(link);\r\n",
        "      document.querySelector('#server_url').appendChild(btn);\r\n",
        "\r\n",
        "      //Criando Botão de cancelar o interval\r\n",
        "      CriaBtnControle();\r\n",
        "    }\r\n",
        "\r\n",
        "    function CriaBtnControle() {\r\n",
        "      var btn_controle = document.createElement('button');\r\n",
        "      var texto_controle = document.createTextNode('Parar Controlador');\r\n",
        "      \r\n",
        "      btn_controle.setAttribute('id', 'estabilizador');\r\n",
        "      btn_controle.setAttribute('type', 'button');\r\n",
        "      btn_controle.setAttribute('onclick', 'Controlador()');\r\n",
        "      btn_controle.appendChild(texto_controle);\r\n",
        "      document.querySelector('#output-area').appendChild(btn_controle);\r\n",
        "    }\r\n",
        "\r\n",
        "    function Conectar() {\r\n",
        "      console.log('Conectado!');\r\n",
        "      window.location.reload();\r\n",
        "    }\r\n",
        "\r\n",
        "    function Controlador() {\r\n",
        "      clearInterval(loop);\r\n",
        "      console.warn('Controlador de conexão finalizado!')\r\n",
        "    }\r\n",
        "\r\n",
        "    if (validacao) {\r\n",
        "      setTimeout(RunApp, 3000); \r\n",
        "      var loop = setInterval(Conectar, 60000);\r\n",
        "    }\r\n",
        "  \"\"\"))"
      ],
      "execution_count": null,
      "outputs": []
    },
    {
      "cell_type": "markdown",
      "metadata": {
        "id": "z7HkKJ1hxe5K"
      },
      "source": [
        "### Validando, Criando Servidor e Disponibilisando o App\r\n",
        "\r\n",
        "Aqui inicia o desenvolvimento do relatório com Plotly, usando ngrok para backdoor. Assim, criando um túnel para a aplicação dentro do servidor que ficará hospedada na máquina da Google. Gerando um link com disponibilidade de acesso externo.\r\n",
        "\r\n",
        "logo no início criamos um dicionário com duas chaves, uma mensagem de sucesso e outra de falha. Cada uma com um código de estilo: Azul para sucesso e vermelho para falha.\r\n",
        "\r\n",
        "Aqui será criado uma tela bem simples, com dados estáticos e um dash \"aleatório\". Apenas, para simplificar o método didático."
      ]
    },
    {
      "cell_type": "code",
      "metadata": {
        "id": "Fh12Osg3Yt_m",
        "colab": {
          "base_uri": "https://localhost:8080/",
          "height": 89
        },
        "outputId": "478f3dac-4b3a-4625-8ac9-f9fe0f34d634"
      },
      "source": [
        "mensagem = {\r\n",
        "  'sucesso' : '\\033[0;34mAcesso concedido!\\033[m',\r\n",
        "  'falha' : '\\033[0;31;47mVocê não tem acesso ao relatório completo!\\033[m'\r\n",
        "}\r\n",
        "\r\n",
        "if validacao():\r\n",
        "  print(mensagem['sucesso'])\r\n",
        "  df = px.data.tips()# Build App\r\n",
        "  app = JupyterDash(__name__)\r\n",
        "  app.layout = html.Div([\r\n",
        "      html.H1(\"1littlecoder deploy ML App Colab ngrok Demo\"),\r\n",
        "      dcc.Graph(id='graph'),\r\n",
        "      html.Label([\r\n",
        "          \"colorscale\",\r\n",
        "          dcc.Dropdown(\r\n",
        "              id='colorscale-dropdown', clearable=False,\r\n",
        "              value='plasma', options=[\r\n",
        "                  {'label': c, 'value': c}\r\n",
        "                  for c in px.colors.named_colorscales()\r\n",
        "              ])\r\n",
        "      ]),\r\n",
        "  ])# Define callback to update graph\r\n",
        "  @app.callback(\r\n",
        "      Output('graph', 'figure'),\r\n",
        "      [Input(\"colorscale-dropdown\", \"value\")]\r\n",
        "  )\r\n",
        "  def update_figure(colorscale):\r\n",
        "      return px.scatter(\r\n",
        "          df, x=\"total_bill\", y=\"tip\", color=\"size\",\r\n",
        "          color_continuous_scale=colorscale,\r\n",
        "          render_mode=\"webgl\", title=\"Tips\"\r\n",
        "      )# Executa o app e exibe o resultado no notebook\r\n",
        "  app.run_server(mode='external')\r\n",
        "  # Abre um tunnel HTTP na porta 80 como padrão\r\n",
        "  public_url = ngrok.connect(port = '8050')\r\n",
        "else:\r\n",
        "  print(mensagem['falha'])\r\n",
        "\r\n",
        "# Criando controles e disponibilizando App em uma nova aba.\r\n",
        "cria_controle_app()"
      ],
      "execution_count": null,
      "outputs": [
        {
          "output_type": "stream",
          "text": [
            "\u001b[0;34mAcesso concedido!\u001b[m\n",
            "Dash app running on:\n"
          ],
          "name": "stdout"
        },
        {
          "output_type": "display_data",
          "data": {
            "application/javascript": [
              "(async (port, path, text, element) => {\n",
              "    if (!google.colab.kernel.accessAllowed) {\n",
              "      return;\n",
              "    }\n",
              "    element.appendChild(document.createTextNode(''));\n",
              "    const url = await google.colab.kernel.proxyPort(port);\n",
              "    const anchor = document.createElement('a');\n",
              "    anchor.href = url + path;\n",
              "    anchor.target = '_blank';\n",
              "    anchor.setAttribute('data-href', url + path);\n",
              "    anchor.textContent = text;\n",
              "    element.appendChild(anchor);\n",
              "  })(8050, \"/\", \"http://127.0.0.1:8050/\", window.element)"
            ],
            "text/plain": [
              "<IPython.core.display.Javascript object>"
            ]
          },
          "metadata": {
            "tags": []
          }
        },
        {
          "output_type": "stream",
          "text": [
            ""
          ],
          "name": "stdout"
        },
        {
          "output_type": "display_data",
          "data": {
            "application/javascript": [
              "var validacao = true"
            ],
            "text/plain": [
              "<IPython.core.display.Javascript object>"
            ]
          },
          "metadata": {
            "tags": []
          }
        },
        {
          "output_type": "display_data",
          "data": {
            "application/javascript": [
              "\n",
              "    function RunApp() {\n",
              "      var urlApp = document.querySelector('#output-body .output-id-2 a');\n",
              "      console.log(urlApp);\n",
              "      if (urlApp) window.open(urlApp.href);\n",
              "      \n",
              "      //Criando Botão do App\n",
              "      var btn = document.createElement('button');\n",
              "      var texto_btn = document.createTextNode('Abrir App');\n",
              "      var link = document.createElement('a');\n",
              "      link.setAttribute('href', urlApp);\n",
              "      link.setAttribute('target', '_blank');\n",
              "      link.setAttribute('id', 'server_url');\n",
              "      btn.appendChild(texto_btn);\n",
              "      document.querySelector('#output-area').appendChild(link);\n",
              "      document.querySelector('#server_url').appendChild(btn);\n",
              "\n",
              "      //Criando Botão de cancelar o interval\n",
              "      CriaBtnControle();\n",
              "    }\n",
              "\n",
              "    function CriaBtnControle() {\n",
              "      var btn_controle = document.createElement('button');\n",
              "      var texto_controle = document.createTextNode('Parar Controlador');\n",
              "      \n",
              "      btn_controle.setAttribute('id', 'estabilizador');\n",
              "      btn_controle.setAttribute('type', 'button');\n",
              "      btn_controle.setAttribute('onclick', 'Controlador()');\n",
              "      btn_controle.appendChild(texto_controle);\n",
              "      document.querySelector('#output-area').appendChild(btn_controle);\n",
              "    }\n",
              "\n",
              "    function Conectar() {\n",
              "      console.log('Conectado!');\n",
              "      window.location.reload();\n",
              "    }\n",
              "\n",
              "    function Controlador() {\n",
              "      clearInterval(loop);\n",
              "      console.warn('Controlador de conexão finalizado!')\n",
              "    }\n",
              "\n",
              "    if (validacao) {\n",
              "      setTimeout(RunApp, 3000); \n",
              "      var loop = setInterval(Conectar, 60000);\n",
              "    }\n",
              "  "
            ],
            "text/plain": [
              "<IPython.core.display.Javascript object>"
            ]
          },
          "metadata": {
            "tags": []
          }
        }
      ]
    }
  ]
}